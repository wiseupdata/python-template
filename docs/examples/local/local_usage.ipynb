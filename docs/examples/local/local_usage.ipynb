{
 "cells": [
  {
   "cell_type": "markdown",
   "metadata": {},
   "source": [
    "# Local usage examples\n",
    "\n",
    "## Create a virtual env\n",
    "\n",
    "```bash\n",
    "pyenv deactivate\n",
    "pyenv virtualenv-delete -f .envTestMyprojectNotebook\n",
    "pyenv virtualenv 3.10.6 .envTestMyprojectNotebook\n",
    "pyenv activate .envTestMyprojectNotebook\n",
    "\n",
    "pip install --upgrade pip\n",
    "pip install ipykernel\n",
    "\n",
    "```"
   ]
  },
  {
   "cell_type": "markdown",
   "metadata": {},
   "source": [
    "# Local usage examples"
   ]
  },
  {
   "cell_type": "code",
   "execution_count": 2,
   "metadata": {},
   "outputs": [
    {
     "name": "stdout",
     "output_type": "stream",
     "text": [
      "Processing /home/wiseupdata/public/python-template/dist/myproject-0.0.1-py3-none-any.whl\n",
      "Collecting click<9.0.0,>=8.1.7 (from myproject==0.0.1)\n",
      "  Using cached click-8.1.7-py3-none-any.whl.metadata (3.0 kB)\n",
      "Using cached click-8.1.7-py3-none-any.whl (97 kB)\n",
      "Installing collected packages: click, myproject\n",
      "Successfully installed click-8.1.7 myproject-0.0.1\n",
      "Note: you may need to restart the kernel to use updated packages.\n"
     ]
    }
   ],
   "source": [
    "pip install /home/wiseupdata/public/python-template/dist/myproject-0.0.1-py3-none-any.whl"
   ]
  },
  {
   "cell_type": "code",
   "execution_count": 4,
   "metadata": {},
   "outputs": [],
   "source": [
    "import os\n",
    "import myproject"
   ]
  },
  {
   "cell_type": "code",
   "execution_count": 5,
   "metadata": {},
   "outputs": [
    {
     "name": "stdout",
     "output_type": "stream",
     "text": [
      "oi test\n"
     ]
    },
    {
     "data": {
      "text/plain": [
       "0"
      ]
     },
     "execution_count": 5,
     "metadata": {},
     "output_type": "execute_result"
    }
   ],
   "source": [
    "os.system('myproject test')"
   ]
  },
  {
   "cell_type": "code",
   "execution_count": 6,
   "metadata": {},
   "outputs": [
    {
     "name": "stdout",
     "output_type": "stream",
     "text": [
      "Found existing installation: myproject 0.0.1\n",
      "Uninstalling myproject-0.0.1:\n",
      "  Successfully uninstalled myproject-0.0.1\n",
      "Note: you may need to restart the kernel to use updated packages.\n"
     ]
    }
   ],
   "source": [
    "pip uninstall myproject -y"
   ]
  }
 ],
 "metadata": {
  "kernelspec": {
   "display_name": "myproject-pOhCNLdi-py3.10",
   "language": "python",
   "name": "python3"
  },
  "language_info": {
   "codemirror_mode": {
    "name": "ipython",
    "version": 3
   },
   "file_extension": ".py",
   "mimetype": "text/x-python",
   "name": "python",
   "nbconvert_exporter": "python",
   "pygments_lexer": "ipython3",
   "version": "3.10.6"
  }
 },
 "nbformat": 4,
 "nbformat_minor": 2
}
